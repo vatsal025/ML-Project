{
 "cells": [
  {
   "cell_type": "code",
   "execution_count": null,
   "id": "7fd2d976",
   "metadata": {},
   "outputs": [],
   "source": [
    "# Initialising all the necessary library files"
   ]
  },
  {
   "cell_type": "code",
   "execution_count": 17,
   "id": "c1a4a68b",
   "metadata": {},
   "outputs": [],
   "source": [
    "import pandas as pd\n",
    "import numpy as np\n",
    "from sklearn.model_selection import train_test_split\n",
    "from sklearn.naive_bayes import GaussianNB\n",
    "from sklearn.metrics import accuracy_score"
   ]
  },
  {
   "cell_type": "code",
   "execution_count": null,
   "id": "ee617846",
   "metadata": {},
   "outputs": [],
   "source": [
    "# Uploading the csv file using pandas and defining the dataset"
   ]
  },
  {
   "cell_type": "code",
   "execution_count": 18,
   "id": "8807334e",
   "metadata": {},
   "outputs": [],
   "source": [
    "dataset=pd.read_csv('C:\\\\Users\\\\Vatsal\\\\Downloads\\\\realdataset.csv')"
   ]
  },
  {
   "cell_type": "code",
   "execution_count": null,
   "id": "6f8b645c",
   "metadata": {},
   "outputs": [],
   "source": [
    "# Defining the X variable for the GaussianNB algorithm"
   ]
  },
  {
   "cell_type": "code",
   "execution_count": 19,
   "id": "1cb14b6a",
   "metadata": {},
   "outputs": [],
   "source": [
    "X=dataset.iloc[:,:-1]"
   ]
  },
  {
   "cell_type": "code",
   "execution_count": 20,
   "id": "123914eb",
   "metadata": {},
   "outputs": [
    {
     "data": {
      "text/html": [
       "<div>\n",
       "<style scoped>\n",
       "    .dataframe tbody tr th:only-of-type {\n",
       "        vertical-align: middle;\n",
       "    }\n",
       "\n",
       "    .dataframe tbody tr th {\n",
       "        vertical-align: top;\n",
       "    }\n",
       "\n",
       "    .dataframe thead th {\n",
       "        text-align: right;\n",
       "    }\n",
       "</style>\n",
       "<table border=\"1\" class=\"dataframe\">\n",
       "  <thead>\n",
       "    <tr style=\"text-align: right;\">\n",
       "      <th></th>\n",
       "      <th>Fixed acidity</th>\n",
       "      <th>Volatile acidity</th>\n",
       "      <th>Citric acid</th>\n",
       "      <th>Residual sugar</th>\n",
       "      <th>Chlorides</th>\n",
       "      <th>Free sulfur dioxide</th>\n",
       "      <th>Total sulfur dioxide</th>\n",
       "      <th>Density</th>\n",
       "      <th>pH</th>\n",
       "      <th>Sulphates</th>\n",
       "      <th>Alcohol</th>\n",
       "    </tr>\n",
       "  </thead>\n",
       "  <tbody>\n",
       "    <tr>\n",
       "      <th>0</th>\n",
       "      <td>7.0</td>\n",
       "      <td>0.270</td>\n",
       "      <td>0.36</td>\n",
       "      <td>20.7</td>\n",
       "      <td>0.045</td>\n",
       "      <td>45.0</td>\n",
       "      <td>170.0</td>\n",
       "      <td>1.0010</td>\n",
       "      <td>3.00</td>\n",
       "      <td>0.45</td>\n",
       "      <td>8.8</td>\n",
       "    </tr>\n",
       "    <tr>\n",
       "      <th>1</th>\n",
       "      <td>6.3</td>\n",
       "      <td>0.300</td>\n",
       "      <td>0.34</td>\n",
       "      <td>1.6</td>\n",
       "      <td>0.049</td>\n",
       "      <td>14.0</td>\n",
       "      <td>132.0</td>\n",
       "      <td>0.9940</td>\n",
       "      <td>3.30</td>\n",
       "      <td>0.49</td>\n",
       "      <td>9.5</td>\n",
       "    </tr>\n",
       "    <tr>\n",
       "      <th>2</th>\n",
       "      <td>8.1</td>\n",
       "      <td>0.280</td>\n",
       "      <td>0.40</td>\n",
       "      <td>6.9</td>\n",
       "      <td>0.050</td>\n",
       "      <td>30.0</td>\n",
       "      <td>97.0</td>\n",
       "      <td>0.9951</td>\n",
       "      <td>3.26</td>\n",
       "      <td>0.44</td>\n",
       "      <td>10.1</td>\n",
       "    </tr>\n",
       "    <tr>\n",
       "      <th>3</th>\n",
       "      <td>7.2</td>\n",
       "      <td>0.230</td>\n",
       "      <td>0.32</td>\n",
       "      <td>8.5</td>\n",
       "      <td>0.058</td>\n",
       "      <td>47.0</td>\n",
       "      <td>186.0</td>\n",
       "      <td>0.9956</td>\n",
       "      <td>3.19</td>\n",
       "      <td>0.40</td>\n",
       "      <td>9.9</td>\n",
       "    </tr>\n",
       "    <tr>\n",
       "      <th>4</th>\n",
       "      <td>7.2</td>\n",
       "      <td>0.230</td>\n",
       "      <td>0.32</td>\n",
       "      <td>8.5</td>\n",
       "      <td>0.058</td>\n",
       "      <td>47.0</td>\n",
       "      <td>186.0</td>\n",
       "      <td>0.9956</td>\n",
       "      <td>3.19</td>\n",
       "      <td>0.40</td>\n",
       "      <td>9.9</td>\n",
       "    </tr>\n",
       "    <tr>\n",
       "      <th>...</th>\n",
       "      <td>...</td>\n",
       "      <td>...</td>\n",
       "      <td>...</td>\n",
       "      <td>...</td>\n",
       "      <td>...</td>\n",
       "      <td>...</td>\n",
       "      <td>...</td>\n",
       "      <td>...</td>\n",
       "      <td>...</td>\n",
       "      <td>...</td>\n",
       "      <td>...</td>\n",
       "    </tr>\n",
       "    <tr>\n",
       "      <th>495</th>\n",
       "      <td>5.7</td>\n",
       "      <td>0.440</td>\n",
       "      <td>0.13</td>\n",
       "      <td>7.0</td>\n",
       "      <td>0.025</td>\n",
       "      <td>28.0</td>\n",
       "      <td>173.0</td>\n",
       "      <td>0.9913</td>\n",
       "      <td>3.33</td>\n",
       "      <td>0.48</td>\n",
       "      <td>12.5</td>\n",
       "    </tr>\n",
       "    <tr>\n",
       "      <th>496</th>\n",
       "      <td>7.2</td>\n",
       "      <td>0.400</td>\n",
       "      <td>0.62</td>\n",
       "      <td>10.8</td>\n",
       "      <td>0.041</td>\n",
       "      <td>70.0</td>\n",
       "      <td>189.0</td>\n",
       "      <td>0.9976</td>\n",
       "      <td>3.08</td>\n",
       "      <td>0.49</td>\n",
       "      <td>8.6</td>\n",
       "    </tr>\n",
       "    <tr>\n",
       "      <th>497</th>\n",
       "      <td>6.8</td>\n",
       "      <td>0.230</td>\n",
       "      <td>0.32</td>\n",
       "      <td>1.6</td>\n",
       "      <td>0.026</td>\n",
       "      <td>43.0</td>\n",
       "      <td>147.0</td>\n",
       "      <td>0.9904</td>\n",
       "      <td>3.29</td>\n",
       "      <td>0.54</td>\n",
       "      <td>12.5</td>\n",
       "    </tr>\n",
       "    <tr>\n",
       "      <th>498</th>\n",
       "      <td>5.7</td>\n",
       "      <td>0.335</td>\n",
       "      <td>0.34</td>\n",
       "      <td>1.0</td>\n",
       "      <td>0.040</td>\n",
       "      <td>13.0</td>\n",
       "      <td>174.0</td>\n",
       "      <td>0.9920</td>\n",
       "      <td>3.27</td>\n",
       "      <td>0.66</td>\n",
       "      <td>10.0</td>\n",
       "    </tr>\n",
       "    <tr>\n",
       "      <th>499</th>\n",
       "      <td>7.2</td>\n",
       "      <td>0.400</td>\n",
       "      <td>0.62</td>\n",
       "      <td>10.8</td>\n",
       "      <td>0.041</td>\n",
       "      <td>70.0</td>\n",
       "      <td>189.0</td>\n",
       "      <td>0.9976</td>\n",
       "      <td>3.08</td>\n",
       "      <td>0.49</td>\n",
       "      <td>8.6</td>\n",
       "    </tr>\n",
       "  </tbody>\n",
       "</table>\n",
       "<p>500 rows × 11 columns</p>\n",
       "</div>"
      ],
      "text/plain": [
       "     Fixed acidity  Volatile acidity  Citric acid  Residual sugar  Chlorides  \\\n",
       "0              7.0             0.270         0.36            20.7      0.045   \n",
       "1              6.3             0.300         0.34             1.6      0.049   \n",
       "2              8.1             0.280         0.40             6.9      0.050   \n",
       "3              7.2             0.230         0.32             8.5      0.058   \n",
       "4              7.2             0.230         0.32             8.5      0.058   \n",
       "..             ...               ...          ...             ...        ...   \n",
       "495            5.7             0.440         0.13             7.0      0.025   \n",
       "496            7.2             0.400         0.62            10.8      0.041   \n",
       "497            6.8             0.230         0.32             1.6      0.026   \n",
       "498            5.7             0.335         0.34             1.0      0.040   \n",
       "499            7.2             0.400         0.62            10.8      0.041   \n",
       "\n",
       "     Free sulfur dioxide  Total sulfur dioxide  Density    pH  Sulphates  \\\n",
       "0                   45.0                 170.0   1.0010  3.00       0.45   \n",
       "1                   14.0                 132.0   0.9940  3.30       0.49   \n",
       "2                   30.0                  97.0   0.9951  3.26       0.44   \n",
       "3                   47.0                 186.0   0.9956  3.19       0.40   \n",
       "4                   47.0                 186.0   0.9956  3.19       0.40   \n",
       "..                   ...                   ...      ...   ...        ...   \n",
       "495                 28.0                 173.0   0.9913  3.33       0.48   \n",
       "496                 70.0                 189.0   0.9976  3.08       0.49   \n",
       "497                 43.0                 147.0   0.9904  3.29       0.54   \n",
       "498                 13.0                 174.0   0.9920  3.27       0.66   \n",
       "499                 70.0                 189.0   0.9976  3.08       0.49   \n",
       "\n",
       "     Alcohol  \n",
       "0        8.8  \n",
       "1        9.5  \n",
       "2       10.1  \n",
       "3        9.9  \n",
       "4        9.9  \n",
       "..       ...  \n",
       "495     12.5  \n",
       "496      8.6  \n",
       "497     12.5  \n",
       "498     10.0  \n",
       "499      8.6  \n",
       "\n",
       "[500 rows x 11 columns]"
      ]
     },
     "execution_count": 20,
     "metadata": {},
     "output_type": "execute_result"
    }
   ],
   "source": [
    "X"
   ]
  },
  {
   "cell_type": "code",
   "execution_count": null,
   "id": "7e4f57e4",
   "metadata": {},
   "outputs": [],
   "source": [
    "# Defining the y variable for the GaussianNB algorithm"
   ]
  },
  {
   "cell_type": "code",
   "execution_count": 21,
   "id": "bf48605b",
   "metadata": {},
   "outputs": [],
   "source": [
    "y=dataset.iloc[:,11]"
   ]
  },
  {
   "cell_type": "code",
   "execution_count": 22,
   "id": "fac8eacd",
   "metadata": {},
   "outputs": [
    {
     "data": {
      "text/plain": [
       "0       Strong\n",
       "1       Strong\n",
       "2       Strong\n",
       "3       Strong\n",
       "4       Strong\n",
       "        ...   \n",
       "495     Strong\n",
       "496     Normal\n",
       "497     Strong\n",
       "498    Premium\n",
       "499     Normal\n",
       "Name: Quality, Length: 500, dtype: object"
      ]
     },
     "execution_count": 22,
     "metadata": {},
     "output_type": "execute_result"
    }
   ],
   "source": [
    "y"
   ]
  },
  {
   "cell_type": "code",
   "execution_count": null,
   "id": "39805e82",
   "metadata": {},
   "outputs": [],
   "source": [
    "# Splitting the dataset into training and test datasets respectively"
   ]
  },
  {
   "cell_type": "code",
   "execution_count": 23,
   "id": "438b7419",
   "metadata": {},
   "outputs": [],
   "source": [
    "X_train,X_test,y_train,y_test=train_test_split(X,y,test_size=0.25,random_state=0)"
   ]
  },
  {
   "cell_type": "code",
   "execution_count": null,
   "id": "282df3f5",
   "metadata": {},
   "outputs": [],
   "source": [
    "# Declaring the Gaussian Naive Bayes algorithm"
   ]
  },
  {
   "cell_type": "code",
   "execution_count": 34,
   "id": "b05602ac",
   "metadata": {},
   "outputs": [],
   "source": [
    "Model=GaussianNB()"
   ]
  },
  {
   "cell_type": "code",
   "execution_count": null,
   "id": "3504c0c9",
   "metadata": {},
   "outputs": [],
   "source": [
    "# Training the model with the training dataset"
   ]
  },
  {
   "cell_type": "code",
   "execution_count": 35,
   "id": "d924602e",
   "metadata": {},
   "outputs": [
    {
     "data": {
      "text/plain": [
       "GaussianNB()"
      ]
     },
     "execution_count": 35,
     "metadata": {},
     "output_type": "execute_result"
    }
   ],
   "source": [
    "Model.fit(X_train,y_train)"
   ]
  },
  {
   "cell_type": "code",
   "execution_count": null,
   "id": "02d26c86",
   "metadata": {},
   "outputs": [],
   "source": [
    "# Predicting the results of test dataset using the model"
   ]
  },
  {
   "cell_type": "code",
   "execution_count": 26,
   "id": "c4592f06",
   "metadata": {},
   "outputs": [],
   "source": [
    "Model_output=Model.predict(X_test)"
   ]
  },
  {
   "cell_type": "code",
   "execution_count": 27,
   "id": "a4c89ec9",
   "metadata": {},
   "outputs": [
    {
     "data": {
      "text/plain": [
       "array(['Premium', 'Strong', 'Premium', 'Hard', 'Premium', 'Hard', 'Hard',\n",
       "       'Premium', 'Extreme', 'Hard', 'Strong', 'Strong', 'Premium',\n",
       "       'Premium', 'Hard', 'Hard', 'Premium', 'Premium', 'Strong', 'Hard',\n",
       "       'Premium', 'Strong', 'Premium', 'Premium', 'Strong', 'Strong',\n",
       "       'Hard', 'Strong', 'Premium', 'Premium', 'Strong', 'Premium',\n",
       "       'Strong', 'Premium', 'Hard', 'Strong', 'Normal', 'Hard', 'Hard',\n",
       "       'Extreme', 'Hard', 'Premium', 'Premium', 'Normal', 'Hard',\n",
       "       'Strong', 'Strong', 'Premium', 'Hard', 'Premium', 'Premium',\n",
       "       'Strong', 'Strong', 'Hard', 'Premium', 'Hard', 'Strong', 'Hard',\n",
       "       'Extreme', 'Premium', 'Strong', 'Strong', 'Premium', 'Strong',\n",
       "       'Strong', 'Strong', 'Hard', 'Premium', 'Normal', 'Premium', 'Hard',\n",
       "       'Premium', 'Strong', 'Strong', 'Hard', 'Strong', 'Hard', 'Premium',\n",
       "       'Hard', 'Strong', 'Normal', 'Premium', 'Premium', 'Strong',\n",
       "       'Extreme', 'Premium', 'Strong', 'Extreme', 'Premium', 'Strong',\n",
       "       'Strong', 'Premium', 'Hard', 'Premium', 'Strong', 'Normal',\n",
       "       'Premium', 'Hard', 'Strong', 'Extreme', 'Premium', 'Hard',\n",
       "       'Strong', 'Hard', 'Premium', 'Hard', 'Premium', 'Premium', 'Hard',\n",
       "       'Premium', 'Premium', 'Premium', 'Premium', 'Strong', 'Hard',\n",
       "       'Strong', 'Hard', 'Premium', 'Hard', 'Extreme', 'Premium',\n",
       "       'Strong', 'Premium', 'Extreme', 'Hard'], dtype='<U7')"
      ]
     },
     "execution_count": 27,
     "metadata": {},
     "output_type": "execute_result"
    }
   ],
   "source": [
    "Model_output"
   ]
  },
  {
   "cell_type": "code",
   "execution_count": null,
   "id": "959df772",
   "metadata": {},
   "outputs": [],
   "source": [
    "# Finding the mean accuracy of the model"
   ]
  },
  {
   "cell_type": "code",
   "execution_count": 28,
   "id": "c2127e2a",
   "metadata": {},
   "outputs": [
    {
     "data": {
      "text/plain": [
       "0.464"
      ]
     },
     "execution_count": 28,
     "metadata": {},
     "output_type": "execute_result"
    }
   ],
   "source": [
    "accuracy_score(y_test,Model_output)"
   ]
  },
  {
   "cell_type": "code",
   "execution_count": null,
   "id": "2e7de49e",
   "metadata": {},
   "outputs": [],
   "source": [
    "# Finding the percentage accuracy of the model"
   ]
  },
  {
   "cell_type": "code",
   "execution_count": 30,
   "id": "fab756e6",
   "metadata": {},
   "outputs": [],
   "source": [
    "percent_accuracy=accuracy_score(y_test,Model_output)*100"
   ]
  },
  {
   "cell_type": "code",
   "execution_count": 31,
   "id": "6ed63ced",
   "metadata": {},
   "outputs": [
    {
     "data": {
      "text/plain": [
       "46.400000000000006"
      ]
     },
     "execution_count": 31,
     "metadata": {},
     "output_type": "execute_result"
    }
   ],
   "source": [
    "percent_accuracy"
   ]
  }
 ],
 "metadata": {
  "kernelspec": {
   "display_name": "Python 3 (ipykernel)",
   "language": "python",
   "name": "python3"
  },
  "language_info": {
   "codemirror_mode": {
    "name": "ipython",
    "version": 3
   },
   "file_extension": ".py",
   "mimetype": "text/x-python",
   "name": "python",
   "nbconvert_exporter": "python",
   "pygments_lexer": "ipython3",
   "version": "3.9.7"
  }
 },
 "nbformat": 4,
 "nbformat_minor": 5
}
